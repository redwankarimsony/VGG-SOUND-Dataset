{
 "cells": [
  {
   "cell_type": "code",
   "execution_count": 5,
   "metadata": {},
   "outputs": [],
   "source": [
    "import pandas as pd\n",
    "\n",
    "df = pd.read_csv('vggsound.csv', header=None)\n",
    "df.head()\n",
    "column_names = ['video_id', 'start_time', 'action', 'split', 'idx']\n",
    "df.columns = column_names\n",
    "\n",
    "df['end_time'] = df['start_time'] + 10\n",
    "\n",
    "columns_names = ['video_id', 'start_time', 'end_time', 'action', 'split', 'idx']\n",
    "\n",
    "df = df[columns_names]"
   ]
  },
  {
   "cell_type": "code",
   "execution_count": 6,
   "metadata": {},
   "outputs": [],
   "source": [
    "# Split the dataframe into 6 different dataframes  with near equal number of rows\n",
    "\n",
    "df1 = df.iloc[:20000]\n",
    "df2 = df.iloc[20000:40000]\n",
    "df3 = df.iloc[40000:60000]\n",
    "df4 = df.iloc[60000:80000]\n",
    "df5 = df.iloc[80000:100000]\n",
    "df6 = df.iloc[100000:120000]\n",
    "df7 = df.iloc[120000:140000]\n",
    "df8 = df.iloc[140000:160000]\n",
    "df9 = df.iloc[160000:180000]\n",
    "df10 = df.iloc[180000:]\n",
    "\n",
    "\n"
   ]
  },
  {
   "cell_type": "code",
   "execution_count": 7,
   "metadata": {},
   "outputs": [],
   "source": [
    "# Save the dataframes to csv files with filename as vgg_sound_1.csv, vgg_sound_2.csv, vgg_sound_3.csv, vgg_sound_4.csv, vgg_sound_5.csv, vgg_sound_6.csv, vgg_sound_7.csv, vgg_sound_8.csv, vgg_sound_9.csv, vgg_sound_10.csv   \n",
    "\n",
    "df1.to_csv('vgg_sound_1.csv', index=False)\n",
    "df2.to_csv('vgg_sound_2.csv', index=False)\n",
    "df3.to_csv('vgg_sound_3.csv', index=False)\n",
    "df4.to_csv('vgg_sound_4.csv', index=False)\n",
    "df5.to_csv('vgg_sound_5.csv', index=False)\n",
    "df6.to_csv('vgg_sound_6.csv', index=False)\n",
    "df7.to_csv('vgg_sound_7.csv', index=False)\n",
    "df8.to_csv('vgg_sound_8.csv', index=False)\n",
    "df9.to_csv('vgg_sound_9.csv', index=False)\n",
    "df10.to_csv('vgg_sound_10.csv', index=False)\n"
   ]
  },
  {
   "cell_type": "code",
   "execution_count": 2,
   "metadata": {},
   "outputs": [
    {
     "data": {
      "text/plain": [
       "(199175, 5)"
      ]
     },
     "execution_count": 2,
     "metadata": {},
     "output_type": "execute_result"
    }
   ],
   "source": [
    "import os\n",
    "import csv\n",
    "import yt_dlp\n",
    "import subprocess\n",
    "import time\n",
    "from concurrent.futures import ThreadPoolExecutor, as_completed\n",
    "from tqdm import tqdm\n",
    "# Set paths for storing downloaded data\n",
    "DATA_DIR = \"/research/iprobe-dardaniy/VGGSoundData\"\n",
    "TRAIN_DIR = os.path.join(DATA_DIR, \"train\")\n",
    "TEST_DIR = os.path.join(DATA_DIR, \"test\")\n",
    "os.makedirs(TRAIN_DIR, exist_ok=True)\n",
    "os.makedirs(TEST_DIR, exist_ok=True)\n",
    "# Path to the VGGSound CSV file\n",
    "CSV_FILE = \"vggsound.csv\"\n",
    "# Function to download video and extract audio\n",
    "def process_video(video_info):\n",
    "    video_id, start_sec, label, split = video_info\n",
    "    video_url = f\"https://www.youtube.com/watch?v={video_id}\"\n",
    "    output_dir = TRAIN_DIR if split.lower() == \"train\" else TEST_DIR\n",
    "    video_path = os.path.join(output_dir, f\"{video_id}.mp4\")\n",
    "    audio_path = os.path.join(output_dir, f\"{video_id}.wav\")\n",
    "    metadata_path = os.path.join(output_dir, f\"{video_id}.txt\")\n",
    "    # Skip if already processed\n",
    "    if os.path.exists(audio_path):\n",
    "        return f\"Skipping {video_id} (already processed)\"\n",
    "    # Download video using yt-dlp\n",
    "    ydl_opts = {\n",
    "    \"format\": \"bestvideo+bestaudio/best\",\n",
    "    \"outtmpl\": video_path,\n",
    "    \"quiet\": True,\n",
    "    \"postprocessors\": [{\"key\": \"FFmpegVideoConvertor\", \"preferedformat\": \"mp4\"}],\n",
    "    \"cookies\": \"www.youtube.com_cookies.txt\",  # Add your exported cookies file\n",
    "}\n",
    "    try:\n",
    "        with yt_dlp.YoutubeDL(ydl_opts) as ydl:\n",
    "            ydl.download([video_url])\n",
    "    except Exception as e:\n",
    "        return f\"Failed to download {video_id}: {e}\"\n",
    "    # Extract audio using ffmpeg\n",
    "    cmd = [\n",
    "        \"ffmpeg\", \"-i\", video_path, \"-ss\", str(start_sec), \"-t\", \"10\",\n",
    "        \"-ar\", \"16000\", \"-ac\", \"1\", \"-c:a\", \"pcm_s16le\", audio_path,\n",
    "        \"-y\"\n",
    "    ]\n",
    "    subprocess.run(cmd, stdout=subprocess.DEVNULL, stderr=subprocess.DEVNULL)\n",
    "    # Save metadata (label)\n",
    "    with open(metadata_path, \"w\") as f:\n",
    "        f.write(f\"Video ID: {video_id}\\nLabel: {label}\\nSplit: {split}\\n\")\n",
    "    return f\"Processed {video_id}\"\n",
    "# Read CSV and process videos in parallel with progress tracking\n",
    "def download_vggsound():\n",
    "    with open(CSV_FILE, \"r\") as file:\n",
    "        reader = csv.reader(file)\n",
    "        next(reader)  # Skip header\n",
    "        video_list = [row for row in reader]\n",
    "    total_videos = len(video_list)\n",
    "    start_time = time.time()\n",
    "    with ThreadPoolExecutor(max_workers=5) as executor:  # Adjust workers for speed\n",
    "        future_to_video = {executor.submit(process_video, vid): vid for vid in video_list}\n",
    "        # Display progress bar\n",
    "        with tqdm(total=total_videos, desc=\"Downloading and Processing\", unit=\"video\") as pbar:\n",
    "            for future in as_completed(future_to_video):\n",
    "                result = future.result()\n",
    "                pbar.set_postfix_str(result)\n",
    "                pbar.update(1)\n",
    "    end_time = time.time()\n",
    "    elapsed_time = end_time - start_time\n",
    "    print(f\"\\n:white_check_mark: Download and processing completed in {elapsed_time:.2f} seconds (~{elapsed_time / total_videos:.2f} sec/video)\")\n",
    "if __name__ == \"__main__\":\n",
    "    download_vggsound()"
   ]
  },
  {
   "cell_type": "code",
   "execution_count": null,
   "metadata": {},
   "outputs": [],
   "source": []
  }
 ],
 "metadata": {
  "kernelspec": {
   "display_name": "adaface",
   "language": "python",
   "name": "python3"
  },
  "language_info": {
   "codemirror_mode": {
    "name": "ipython",
    "version": 3
   },
   "file_extension": ".py",
   "mimetype": "text/x-python",
   "name": "python",
   "nbconvert_exporter": "python",
   "pygments_lexer": "ipython3",
   "version": "3.8.18"
  }
 },
 "nbformat": 4,
 "nbformat_minor": 2
}
